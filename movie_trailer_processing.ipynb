{
 "cells": [
  {
   "cell_type": "code",
   "execution_count": 1,
   "metadata": {},
   "outputs": [],
   "source": [
    "from pytube import YouTube\n",
    "import cv2\n",
    "import os\n",
    "from PIL import ImageStat, Image\n",
    "import numpy as np\n",
    "import pandas as pd\n",
    "import operator\n",
    "from functools import reduce\n",
    "import shutil\n",
    "from tqdm import tqdm\n",
    "from imdb import IMDb"
   ]
  },
  {
   "cell_type": "code",
   "execution_count": 2,
   "metadata": {},
   "outputs": [],
   "source": [
    "OFFSET = 45"
   ]
  },
  {
   "cell_type": "code",
   "execution_count": 3,
   "metadata": {},
   "outputs": [],
   "source": [
    "#create list of genres which will use in future\n",
    "ia = IMDb()\n",
    "lst_genres = ['Action','Adventure','Animation','Children','Comedy','Crime','Documentary',\\\n",
    "            'Drama','Fantasy','Film_Noir','Horror','Musical','Mystery','Romance','Sci_Fi',\\\n",
    "            'Thriller','War','Western']"
   ]
  },
  {
   "cell_type": "code",
   "execution_count": 4,
   "metadata": {},
   "outputs": [],
   "source": [
    "#get trailer information by given limit\n",
    "#cam(cv2.VideoCapture): cv2 capture video\n",
    "#limit(int): percentage to jump\n",
    "#return(list): list of mean, median, variance for each frame\n",
    "def get_trailer_info(cam, limit):\n",
    "    lst_mean = [[] for _ in range(3)]\n",
    "    lst_median = [[] for _ in range(3)]\n",
    "    lst_var = [[] for _ in range(3)]\n",
    "    total = int(cam.get(cv2.CAP_PROP_FRAME_COUNT))\n",
    "    up = int(total*limit)\n",
    "    down = int(total*(1-limit))\n",
    "    count = 0\n",
    "    while(True):\n",
    "        ret,frame = cam.read()\n",
    "        count += 1\n",
    "        if ret:\n",
    "            if count >= up and count <= down:\n",
    "                result = ImageStat.Stat(Image.fromarray(frame))\n",
    "                if np.var(result.mean) >= 10:\n",
    "                    for i in range(3):\n",
    "                        lst_mean[i].append(result.mean[i])\n",
    "                        lst_median[i].append(result.median[i])\n",
    "                        lst_var[i].append(result.var[i])\n",
    "        else: \n",
    "            break\n",
    "    return [lst_mean,lst_median,lst_var]"
   ]
  },
  {
   "cell_type": "code",
   "execution_count": 5,
   "metadata": {},
   "outputs": [],
   "source": [
    "#generate 27 features\n",
    "#lst_mean(list): list of ImageStat given mean\n",
    "#lst_median(list): list of ImageStat given median\n",
    "#lst_var(list): list of ImageStat given variance\n",
    "#return(list): list of 9*rgb\n",
    "def color_preprocessing(lst_mean,lst_median,lst_var):\n",
    "    meanmean = np.mean(lst_mean,axis=1)\n",
    "    meanmedian = np.median(lst_mean,axis=1)\n",
    "    meanvar = np.var(lst_mean,axis=1)\n",
    "    medianmean = np.mean(lst_median,axis=1)\n",
    "    medianmedian = np.median(lst_median,axis=1)\n",
    "    medianvar = np.var(lst_median,axis=1)\n",
    "    varmean = np.mean(lst_var,axis=1)\n",
    "    varmedian = np.median(lst_var,axis=1)\n",
    "    varvar = np.var(lst_var,axis=1)\n",
    "    return [meanmean,meanmedian,meanvar,medianmean,medianmedian,medianvar,varmean,varmedian,varvar]"
   ]
  },
  {
   "cell_type": "code",
   "execution_count": 6,
   "metadata": {},
   "outputs": [],
   "source": [
    "#get dataframe by given path\n",
    "#path(str): dir\n",
    "#title(str): movie title\n",
    "#return(list): list of movie trailer info\n",
    "def trailer_to_dataframe(path, title):\n",
    "    trailer_lst = os.listdir(path)\n",
    "    count = 0\n",
    "    for i in trailer_lst:\n",
    "        if i.split('.')[-1] == 'mp4':\n",
    "            cam = cv2.VideoCapture(i)\n",
    "            lst = get_trailer_info(cam, 0.05)\n",
    "            result = color_preprocessing(lst[0],lst[1],lst[2])\n",
    "            temp = []\n",
    "            temp.append(i[:-11])\n",
    "            temp.append(i[-9:-5])\n",
    "            temp.extend(reduce(operator.concat,[list(j) for j in result]))\n",
    "            temp.append(title)\n",
    "    return temp"
   ]
  },
  {
   "cell_type": "code",
   "execution_count": 7,
   "metadata": {
    "scrolled": true
   },
   "outputs": [],
   "source": [
    "#download movie trailer\n",
    "#offset(int): offset of list from ml-youtube.csv\n",
    "#return(list): list of movie trailer information\n",
    "def download_trailer(offset):\n",
    "    path = os.getcwd()\n",
    "    base_link = 'https://www.youtube.com/watch?v='\n",
    "    link = base_link + df_tube['youtubeId'][offset]\n",
    "    name = df_tube['title'][offset]\n",
    "    lst = []\n",
    "    try:\n",
    "        yt = YouTube(link)\n",
    "        file_name = df_tube['title'][offset]\n",
    "        try:\n",
    "            yt.streams.filter(progressive=True,file_extension='mp4').order_by('resolution').last().download(path, \\\n",
    "                                                                                    filename = file_name)\n",
    "            lst = trailer_to_dataframe(path, name)\n",
    "            trailer_lst = os.listdir(path)\n",
    "            count = 0\n",
    "            for i in trailer_lst:\n",
    "                if i.split('.')[-1] == 'mp4':\n",
    "                    filename = i\n",
    "            os.remove(filename)\n",
    "        except:\n",
    "            pass\n",
    "            #print('error in download')\n",
    "    except:\n",
    "        pass\n",
    "        #print('error in access video')\n",
    "    if lst != []:\n",
    "        lst.extend(imdb_info(name))\n",
    "    return lst"
   ]
  },
  {
   "cell_type": "code",
   "execution_count": 8,
   "metadata": {},
   "outputs": [],
   "source": [
    "#get imdb information of genres, directors, runtim, production country, actors(3), plot\n",
    "#title(str): title of movie\n",
    "#return(list): all the information mentioned above\n",
    "def imdb_info(title):\n",
    "    plot = ''\n",
    "    lst = []\n",
    "    result = ia.search_movie(title)\n",
    "    if  result == []:\n",
    "        for _ in range(len(lst_genres)+7):\n",
    "            lst.append('')\n",
    "    else:\n",
    "        movie = result[0]\n",
    "        movie_id = movie.getID()\n",
    "        movie = ia.get_movie(movie_id)\n",
    "        temp_genres = movie['genres']\n",
    "        for i in lst_genres:\n",
    "            if i in temp_genres:\n",
    "                lst.append(1)\n",
    "            else:\n",
    "                lst.append(0)\n",
    "        if movie['directors']:\n",
    "            lst.append(str(movie['directors'][0]))\n",
    "        else:\n",
    "            lst.append('')\n",
    "        if movie['runtime']:\n",
    "            lst.append(int(movie['runtime'][0]))\n",
    "        else:\n",
    "            lst.append('')\n",
    "        lst.append(str(movie['production country'][0]))\n",
    "        lst.append(str(movie['actors'][0]))\n",
    "        lst.append(str(movie['actors'][1]))\n",
    "        lst.append(str(movie['actors'][2]))\n",
    "        temp = movie.get('plot')\n",
    "        if temp:\n",
    "            for i in temp:\n",
    "                plot += i.split('::')[0] + ' '\n",
    "            plot = plot[:-1]\n",
    "        lst.append(plot)\n",
    "    return lst"
   ]
  },
  {
   "cell_type": "code",
   "execution_count": 9,
   "metadata": {},
   "outputs": [
    {
     "data": {
      "text/html": [
       "<div>\n",
       "<style scoped>\n",
       "    .dataframe tbody tr th:only-of-type {\n",
       "        vertical-align: middle;\n",
       "    }\n",
       "\n",
       "    .dataframe tbody tr th {\n",
       "        vertical-align: top;\n",
       "    }\n",
       "\n",
       "    .dataframe thead th {\n",
       "        text-align: right;\n",
       "    }\n",
       "</style>\n",
       "<table border=\"1\" class=\"dataframe\">\n",
       "  <thead>\n",
       "    <tr style=\"text-align: right;\">\n",
       "      <th></th>\n",
       "      <th>youtubeId</th>\n",
       "      <th>movieId</th>\n",
       "      <th>title</th>\n",
       "    </tr>\n",
       "  </thead>\n",
       "  <tbody>\n",
       "    <tr>\n",
       "      <th>0</th>\n",
       "      <td>K26_sDKnvMU</td>\n",
       "      <td>1</td>\n",
       "      <td>Toy Story (1995)</td>\n",
       "    </tr>\n",
       "    <tr>\n",
       "      <th>1</th>\n",
       "      <td>3LPANjHlPxo</td>\n",
       "      <td>2</td>\n",
       "      <td>Jumanji (1995)</td>\n",
       "    </tr>\n",
       "    <tr>\n",
       "      <th>2</th>\n",
       "      <td>rEnOoWs3FuA</td>\n",
       "      <td>3</td>\n",
       "      <td>Grumpier Old Men (1995)</td>\n",
       "    </tr>\n",
       "    <tr>\n",
       "      <th>3</th>\n",
       "      <td>j9xml1CxgXI</td>\n",
       "      <td>4</td>\n",
       "      <td>Waiting to Exhale (1995)</td>\n",
       "    </tr>\n",
       "    <tr>\n",
       "      <th>4</th>\n",
       "      <td>ltwvKLnj1B4</td>\n",
       "      <td>5</td>\n",
       "      <td>Father of the Bride Part II (1995)</td>\n",
       "    </tr>\n",
       "  </tbody>\n",
       "</table>\n",
       "</div>"
      ],
      "text/plain": [
       "     youtubeId  movieId                               title\n",
       "0  K26_sDKnvMU        1                    Toy Story (1995)\n",
       "1  3LPANjHlPxo        2                      Jumanji (1995)\n",
       "2  rEnOoWs3FuA        3             Grumpier Old Men (1995)\n",
       "3  j9xml1CxgXI        4            Waiting to Exhale (1995)\n",
       "4  ltwvKLnj1B4        5  Father of the Bride Part II (1995)"
      ]
     },
     "execution_count": 9,
     "metadata": {},
     "output_type": "execute_result"
    }
   ],
   "source": [
    "#read in movie trialer youtube csv file\n",
    "df_tube = pd.read_csv('ml-youtube.csv')\n",
    "df_tube.head()"
   ]
  },
  {
   "cell_type": "code",
   "execution_count": 10,
   "metadata": {},
   "outputs": [
    {
     "data": {
      "text/plain": [
       "25623"
      ]
     },
     "execution_count": 10,
     "metadata": {},
     "output_type": "execute_result"
    }
   ],
   "source": [
    "len(df_tube)"
   ]
  },
  {
   "cell_type": "code",
   "execution_count": null,
   "metadata": {},
   "outputs": [
    {
     "name": "stderr",
     "output_type": "stream",
     "text": [
      "  0%|          | 2/500 [00:39<2:15:18, 16.30s/it]"
     ]
    }
   ],
   "source": [
    "#get the info from movie trailers\n",
    "df_result = pd.DataFrame(columns=['name','year','r_mm','g_mm','b_mm','r_mme','g_mme','b_mme','r_mv','g_mv','b_mv',\\\n",
    "                                      'r_mem','g_mem','b_mem','r_meme','g_meme','b_meme','r_mev','g_mev','b_mev',\\\n",
    "                                      'r_vm','g_vm','b_vm','r_vme','g_vme','b_vme','r_vv','g_vv','b_vv', 'title',\\\n",
    "                                      'Action','Adventure','Animation','Children','Comedy','Crime','Documentary',\\\n",
    "                                      'Drama','Fantasy','Film_Noir','Horror','Musical','Mystery','Romance','Sci_Fi',\\\n",
    "                                      'Thriller','War','Western','director','runtime','production_country','actor_1',\\\n",
    "                                      'actor_2','actor_3','plot'])\n",
    "count = 0\n",
    "for i in tqdm(range(500)):\n",
    "    lst = download_trailer(i+OFFSET)\n",
    "    if lst != []:\n",
    "        df_result.loc[count] = lst\n",
    "        count+=1"
   ]
  },
  {
   "cell_type": "code",
   "execution_count": null,
   "metadata": {},
   "outputs": [],
   "source": [
    "name = str(OFFSET) + '.csv'\n",
    "df_result.to_csv(name)"
   ]
  }
 ],
 "metadata": {
  "kernelspec": {
   "display_name": "Python 3",
   "language": "python",
   "name": "python3"
  },
  "language_info": {
   "codemirror_mode": {
    "name": "ipython",
    "version": 3
   },
   "file_extension": ".py",
   "mimetype": "text/x-python",
   "name": "python",
   "nbconvert_exporter": "python",
   "pygments_lexer": "ipython3",
   "version": "3.7.5"
  }
 },
 "nbformat": 4,
 "nbformat_minor": 2
}
